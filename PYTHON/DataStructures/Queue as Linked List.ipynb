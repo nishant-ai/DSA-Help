{
 "cells": [
  {
   "cell_type": "code",
   "execution_count": 1,
   "id": "2a1c56e5",
   "metadata": {},
   "outputs": [],
   "source": [
    "class Node:\n",
    "    nextnode=None\n",
    "\n",
    "    data=0\n",
    "    def __init__(self,data):\n",
    "        self.data=data"
   ]
  },
  {
   "cell_type": "code",
   "execution_count": 2,
   "id": "0135f2d1",
   "metadata": {},
   "outputs": [],
   "source": [
    "class Queue:\n",
    "    start=None\n",
    "    end=None\n",
    "    def __init__(self,node):\n",
    "        self.start=node\n",
    "        self.end=node\n",
    "    def addnode(self,node):\n",
    "        if self.start is None:\n",
    "            self.start=node\n",
    "            self.end=node\n",
    "        else:\n",
    "            self.end.nextnode=node\n",
    "            self.end=node\n",
    "    def removenode(self,):\n",
    "        temp=self.start\n",
    "        self.start=self.start.nextnode\n",
    "        del temp\n",
    "    def printqeue(self,):\n",
    "        temp=self.start\n",
    "        if self.start is None:\n",
    "                print(\"Empty Queue\")\n",
    "        else:\n",
    "                while temp is not None:\n",
    "                    print(temp.data,end=\" \")\n",
    "                    temp=temp.nextnode"
   ]
  },
  {
   "cell_type": "code",
   "execution_count": 3,
   "id": "ef2b37ea",
   "metadata": {},
   "outputs": [],
   "source": [
    "n=Node(1)"
   ]
  },
  {
   "cell_type": "code",
   "execution_count": 4,
   "id": "c7794387",
   "metadata": {},
   "outputs": [],
   "source": [
    "q=Queue(n)"
   ]
  },
  {
   "cell_type": "code",
   "execution_count": 5,
   "id": "929a4dcf",
   "metadata": {},
   "outputs": [],
   "source": [
    "n=Node(2)"
   ]
  },
  {
   "cell_type": "code",
   "execution_count": 6,
   "id": "fa3c1e03",
   "metadata": {},
   "outputs": [],
   "source": [
    "q.addnode(n)"
   ]
  },
  {
   "cell_type": "code",
   "execution_count": 7,
   "id": "72fd4e31",
   "metadata": {},
   "outputs": [
    {
     "name": "stdout",
     "output_type": "stream",
     "text": [
      "1 2 "
     ]
    }
   ],
   "source": [
    "q.printqeue()"
   ]
  },
  {
   "cell_type": "code",
   "execution_count": 8,
   "id": "5636a97c",
   "metadata": {},
   "outputs": [],
   "source": [
    "q.removenode()"
   ]
  },
  {
   "cell_type": "code",
   "execution_count": 9,
   "id": "ce54e678",
   "metadata": {},
   "outputs": [
    {
     "name": "stdout",
     "output_type": "stream",
     "text": [
      "2 "
     ]
    }
   ],
   "source": [
    "q.printqeue()"
   ]
  },
  {
   "cell_type": "code",
   "execution_count": 10,
   "id": "db6aa50a",
   "metadata": {},
   "outputs": [],
   "source": [
    "q.removenode()"
   ]
  },
  {
   "cell_type": "code",
   "execution_count": 11,
   "id": "b93fae4c",
   "metadata": {},
   "outputs": [
    {
     "name": "stdout",
     "output_type": "stream",
     "text": [
      "Empty Queue\n"
     ]
    }
   ],
   "source": [
    "q.printqeue()"
   ]
  },
  {
   "cell_type": "code",
   "execution_count": 12,
   "id": "bd36df22",
   "metadata": {},
   "outputs": [],
   "source": [
    "q.addnode(n)"
   ]
  },
  {
   "cell_type": "code",
   "execution_count": 13,
   "id": "c9a750ae",
   "metadata": {},
   "outputs": [
    {
     "name": "stdout",
     "output_type": "stream",
     "text": [
      "2 "
     ]
    }
   ],
   "source": [
    "q.printqeue()"
   ]
  },
  {
   "cell_type": "code",
   "execution_count": null,
   "id": "468d672e",
   "metadata": {},
   "outputs": [],
   "source": []
  }
 ],
 "metadata": {
  "kernelspec": {
   "display_name": "Python 3 (ipykernel)",
   "language": "python",
   "name": "python3"
  },
  "language_info": {
   "codemirror_mode": {
    "name": "ipython",
    "version": 3
   },
   "file_extension": ".py",
   "mimetype": "text/x-python",
   "name": "python",
   "nbconvert_exporter": "python",
   "pygments_lexer": "ipython3",
   "version": "3.9.12"
  }
 },
 "nbformat": 4,
 "nbformat_minor": 5
}
